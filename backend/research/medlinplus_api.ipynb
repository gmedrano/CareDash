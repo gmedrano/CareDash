{
 "cells": [
  {
   "cell_type": "markdown",
   "metadata": {},
   "source": [
    "## MedlinePlus API (NIH)"
   ]
  },
  {
   "cell_type": "code",
   "execution_count": 8,
   "metadata": {},
   "outputs": [],
   "source": [
    "import requests\n",
    "import urllib.parse\n",
    "\n",
    "def sentence_to_query_params(sentence):\n",
    "    # Convert sentence to URL query parameters\n",
    "    query_params = urllib.parse.urlencode({'q': sentence})\n",
    "    return query_params\n"
   ]
  },
  {
   "cell_type": "code",
   "execution_count": 9,
   "metadata": {},
   "outputs": [
    {
     "data": {
      "text/plain": [
       "'q=what+is+diabetes'"
      ]
     },
     "execution_count": 9,
     "metadata": {},
     "output_type": "execute_result"
    }
   ],
   "source": [
    "#https://wsearch.nlm.nih.gov/ws/query?db=healthTopics&term=asthma\n",
    "\n",
    "sentence_to_query_params('what is diabetes')"
   ]
  },
  {
   "cell_type": "code",
   "execution_count": 16,
   "metadata": {},
   "outputs": [
    {
     "name": "stdout",
     "output_type": "stream",
     "text": [
      "text/xml; charset=UTF-8\n"
     ]
    }
   ],
   "source": [
    "def get_medlineplus_data(query):\n",
    "    query_params = sentence_to_query_params(query)\n",
    "    query = query_params.replace('q=', '')\n",
    "    url = f'https://wsearch.nlm.nih.gov/ws/query?db=healthTopics&term={query}'\n",
    "    response = requests.get(url)\n",
    "    return response\n",
    "\n",
    "response = get_medlineplus_data('what is diabetes?')\n",
    "print(response.headers['Content-Type'])\n"
   ]
  },
  {
   "cell_type": "code",
   "execution_count": 17,
   "metadata": {},
   "outputs": [
    {
     "name": "stdout",
     "output_type": "stream",
     "text": [
      "52762\n"
     ]
    }
   ],
   "source": [
    "print(len(response.text))"
   ]
  },
  {
   "cell_type": "code",
   "execution_count": 18,
   "metadata": {},
   "outputs": [],
   "source": [
    "import xml.etree.ElementTree as ET\n",
    "\n",
    "def extract_first_document(xml_string):\n",
    "    \"\"\"\n",
    "    Extract the first document from NLM search results XML.\n",
    "    \n",
    "    Args:\n",
    "        xml_string (str): The XML string containing the search results\n",
    "        \n",
    "    Returns:\n",
    "        dict: A dictionary containing the first document's information\n",
    "    \"\"\"\n",
    "    # Parse the XML string\n",
    "    root = ET.fromstring(xml_string)\n",
    "    \n",
    "    # Find the first document element\n",
    "    first_doc = root.find('.//document[@rank=\"1\"]')\n",
    "    \n",
    "    if first_doc is None:\n",
    "        return None\n",
    "    \n",
    "    # Extract document information\n",
    "    doc_info = {\n",
    "        'url': first_doc.get('url'),\n",
    "        'title': first_doc.find('.//content[@name=\"title\"]').text,\n",
    "        'organization': first_doc.find('.//content[@name=\"organizationName\"]').text,\n",
    "        'summary': first_doc.find('.//content[@name=\"FullSummary\"]').text\n",
    "    }\n",
    "    \n",
    "    # Try to get alternative titles if they exist\n",
    "    alt_titles = first_doc.findall('.//content[@name=\"altTitle\"]')\n",
    "    if alt_titles:\n",
    "        doc_info['alternative_titles'] = [title.text for title in alt_titles]\n",
    "        \n",
    "    return doc_info"
   ]
  },
  {
   "cell_type": "code",
   "execution_count": 21,
   "metadata": {},
   "outputs": [
    {
     "data": {
      "text/plain": [
       "{'url': 'https://medlineplus.gov/diabeticdiet.html',\n",
       " 'title': 'Diabetic Diet',\n",
       " 'organization': 'National Library of Medicine',\n",
       " 'summary': '<span class=\"qt0\">What</span> is <span class=\"qt3\">diabetes</span>?<p>If you have <span class=\"qt3\">diabetes</span>, your blood glucose, or blood sugar, levels are too high. Glucose comes from foods you eat. The cells of your body need glucose for energy. A hormone called insulin helps the glucose get into your cells.</p><p>With type 1 <span class=\"qt3\">diabetes</span>, your body doesn\\'t make insulin. With type 2 <span class=\"qt3\">diabetes</span>, your body doesn\\'t make or use insulin well. Without enough insulin, glucose builds up in your blood and causes high blood glucose levels.</p><p>Prediabetes means that your blood glucose levels are higher than normal but not high enough to be called <span class=\"qt3\">diabetes</span>. If you have prediabetes, you are more likely to develop type 2 <span class=\"qt3\">diabetes</span>.</p>How do the foods I eat affect my blood glucose levels?<p>The glucose in your blood comes from certain foods called carbohydrates, or \"carbs.\" Foods that are high in carbs include candy and sweets, sodas, breads, tortillas, and white rice. The more carbs you eat, the higher your blood glucose level will be.</p><p>Whether you have type 1 or type 2 <span class=\"qt3\">diabetes</span>, making the right food choices is an important way to keep your blood glucose at a level that is healthy for you. When you control your blood glucose, you lower your chance of having serious health problems from <span class=\"qt3\">diabetes</span>, such as vision loss and heart problems.</p><p>And if you have prediabetes or are at risk for <span class=\"qt3\">diabetes</span>, eating foods that keep your blood glucose levels healthy may help prevent type 2 <span class=\"qt3\">diabetes</span> later on.</p><span class=\"qt0\">What</span>\\'s the best diet for <span class=\"qt3\">diabetes</span>?<p>There isn\\'t a specific diet or meal plan that works for everybody. Your health care provider may have you see a registered dietician (RD) or a <span class=\"qt3\">diabetes</span> educator who can help design the best eating plan for you. The plan will consider:</p><ul><li>Any medicines that you take</li><li>Your weight</li><li>Any other health conditions you have</li><li>Your lifestyle and tastes</li><li>Your goals</li></ul><p>All eating plans for <span class=\"qt3\">diabetes</span> have a few things in common, including eating the right foods in the right amounts at the right times.</p><span class=\"qt0\">What</span> foods should I eat if I have <span class=\"qt3\">diabetes</span>?<p>Eating the right foods for <span class=\"qt3\">diabetes</span> means eating a variety of healthy foods from all the food groups:</p><ul><li>Fruits and vegetables</li><li>Whole grains, such as whole wheat, brown rice, barley, quinoa, and oats</li><li>Proteins, such as lean meats, chicken, turkey, fish, eggs, nuts, beans, lentils, and tofu</li><li>Nonfat or low-fat dairy, such as milk, yogurt, and cheese</li></ul><span class=\"qt0\">What</span> foods should I limit to control my blood glucose?<p>To keep your blood glucose under control, you may need to cut back on certain foods and drinks. This doesn\\'t mean that you can never enjoy them. But you will need to have them less often or in smaller amounts.</p><ul><li>High-carb foods and drinks, such as:\\n   <ul><li>Sugary foods, such as candy, cookies, cake, ice cream, sweetened cereals, and canned fruits with added sugar</li><li>Drinks with added sugars, such as juice, regular soda, and regular sports or energy drinks</li><li>White rice, tortillas, breads and pasta - especially those made with white flour</li><li>Starchy vegetables, such as white potatoes, corn, and peas</li></ul>\\n</li><li>Fried foods and other foods high in saturated trans fats.</li><li>Foods high in sodium (salt).</li><li>Alcohol. If you do drink, you should drink moderately. This means no more than one standard drink a day if you\\'re a woman or two standard drinks a day if you\\'re a man.</li></ul><span class=\"qt0\">What</span> else do I need to know about diabetic diets?<p>If you have <span class=\"qt3\">diabetes</span>, it\\'s important to eat the right amount of food every day. Your eating plan will include how much to eat, so that you get the right amount of carbs in each meal or snack. You\\'ll learn how to count carbs and measure your food.</p><p>Eating at the right times is also important. You will want to plan for regular, balanced meals to avoid blood glucose levels that are too high or too low for you. Eating about the same amount of carbs at each meal can be helpful.</p><p>Your eating plan will also teach you how to stick with your plan at home and when you eat out.</p><p>Eating healthy to control your blood glucose does take some effort. But the reward is a chance to live your healthiest life with <span class=\"qt3\">diabetes</span>.</p><p>NIH: National Institute of <span class=\"qt3\">Diabetes</span> and Digestive and Kidney Diseases</p>'}"
      ]
     },
     "execution_count": 21,
     "metadata": {},
     "output_type": "execute_result"
    }
   ],
   "source": [
    "extract_first_document(response.text)"
   ]
  },
  {
   "cell_type": "code",
   "execution_count": null,
   "metadata": {},
   "outputs": [],
   "source": []
  },
  {
   "cell_type": "code",
   "execution_count": null,
   "metadata": {},
   "outputs": [],
   "source": []
  }
 ],
 "metadata": {
  "kernelspec": {
   "display_name": "caredash",
   "language": "python",
   "name": "python3"
  },
  "language_info": {
   "codemirror_mode": {
    "name": "ipython",
    "version": 3
   },
   "file_extension": ".py",
   "mimetype": "text/x-python",
   "name": "python",
   "nbconvert_exporter": "python",
   "pygments_lexer": "ipython3",
   "version": "3.11.10"
  }
 },
 "nbformat": 4,
 "nbformat_minor": 2
}
